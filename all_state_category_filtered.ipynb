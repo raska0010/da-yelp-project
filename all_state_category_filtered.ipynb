{
 "cells": [
  {
   "cell_type": "markdown",
   "metadata": {},
   "source": [
    "# yelp capstone project\n",
    "Consist of 5 tables e.g Business, Review, User, Tip, Checkin.\\\n",
    "For dataset details kindly [visit](https://www.yelp.com/dataset/documentation/main)\\\n",
    "Bootcamper : Robert, Sining, Theresa, Kamruddin\n",
    "\n",
    "The project was initialized and capstoned to pass the knowledge and learning into application."
   ]
  },
  {
   "cell_type": "markdown",
   "metadata": {},
   "source": [
    "Now we are importing necessary packages "
   ]
  },
  {
   "cell_type": "code",
   "execution_count": 1,
   "metadata": {},
   "outputs": [],
   "source": [
    "import json\n",
    "import pandas as pd"
   ]
  },
  {
   "cell_type": "code",
   "execution_count": null,
   "metadata": {},
   "outputs": [],
   "source": [
    "# add 'data/' to .gitignore so that you do not upload data to github\n",
    "!echo 'data/' >> .gitignore"
   ]
  },
  {
   "cell_type": "markdown",
   "metadata": {},
   "source": [
    "Opening json file from business dataset together with unpacking 'arrributes' columns to find to particular hypothetic columns."
   ]
  },
  {
   "cell_type": "code",
   "execution_count": 2,
   "metadata": {},
   "outputs": [],
   "source": [
    "data = []\n",
    "\n",
    "with open('data/yelp_academic_dataset_business.json') as f:\n",
    "\n",
    "    for line in f:\n",
    "        \n",
    "        #Parse the JSON data\n",
    "        json_dict = json.loads(line)\n",
    "\n",
    "        if json_dict['attributes']:\n",
    "            if 'BusinessParking' in json_dict['attributes'].keys():\n",
    "\n",
    "                json_dict['attributes']['BusinessParking'] = eval(json_dict['attributes']['BusinessParking'])\n",
    "\n",
    "        data.append(json_dict)"
   ]
  },
  {
   "cell_type": "markdown",
   "metadata": {},
   "source": [
    "normlize dataset"
   ]
  },
  {
   "cell_type": "code",
   "execution_count": 3,
   "metadata": {},
   "outputs": [],
   "source": [
    "biz_df = pd.json_normalize(data)"
   ]
  },
  {
   "cell_type": "code",
   "execution_count": 5,
   "metadata": {},
   "outputs": [
    {
     "data": {
      "text/plain": [
       "(150346, 65)"
      ]
     },
     "execution_count": 5,
     "metadata": {},
     "output_type": "execute_result"
    }
   ],
   "source": [
    "biz_df.shape"
   ]
  },
  {
   "cell_type": "markdown",
   "metadata": {},
   "source": [
    "Now we have 150,346 rows and 65 columns. We need to clean on column level then deep dive into cells."
   ]
  },
  {
   "cell_type": "markdown",
   "metadata": {},
   "source": [
    "## Dropping empty category rows and reset index on existing dataframe"
   ]
  },
  {
   "cell_type": "code",
   "execution_count": 6,
   "metadata": {},
   "outputs": [],
   "source": [
    "# drop row that have no category labels\n",
    "biz_df.dropna(subset='categories', inplace=True)\n",
    "# reset index\n",
    "biz_df.reset_index(drop=True, inplace=True)"
   ]
  },
  {
   "cell_type": "code",
   "execution_count": 7,
   "metadata": {},
   "outputs": [],
   "source": [
    "# import category labels from CSV and filter dataframe to keep row that have category label Approx 30 min\n",
    "cat_data = pd.read_csv('data/categories.csv', header=None)\n",
    "categories = cat_data[0].tolist()\n",
    "filtered_df = pd.DataFrame()\n",
    "\n",
    "for index, item in biz_df['categories'].items():\n",
    "\n",
    "    for category in categories:\n",
    "        if category in item:\n",
    "            filtered_df = pd.concat([filtered_df, biz_df[index:index+1]])\n",
    "            break"
   ]
  },
  {
   "cell_type": "code",
   "execution_count": 8,
   "metadata": {},
   "outputs": [
    {
     "data": {
      "text/plain": [
       "Index(['business_id', 'name', 'address', 'city', 'state', 'postal_code',\n",
       "       'latitude', 'longitude', 'stars', 'review_count', 'is_open',\n",
       "       'categories', 'hours', 'attributes.ByAppointmentOnly',\n",
       "       'attributes.BusinessAcceptsCreditCards', 'hours.Monday',\n",
       "       'hours.Tuesday', 'hours.Wednesday', 'hours.Thursday', 'hours.Friday',\n",
       "       'hours.Saturday', 'attributes.BikeParking',\n",
       "       'attributes.RestaurantsPriceRange2', 'attributes.CoatCheck',\n",
       "       'attributes.RestaurantsTakeOut', 'attributes.RestaurantsDelivery',\n",
       "       'attributes.Caters', 'attributes.WiFi',\n",
       "       'attributes.BusinessParking.garage',\n",
       "       'attributes.BusinessParking.street',\n",
       "       'attributes.BusinessParking.validated',\n",
       "       'attributes.BusinessParking.lot', 'attributes.BusinessParking.valet',\n",
       "       'attributes.WheelchairAccessible', 'attributes.HappyHour',\n",
       "       'attributes.OutdoorSeating', 'attributes.HasTV',\n",
       "       'attributes.RestaurantsReservations', 'attributes.DogsAllowed',\n",
       "       'hours.Sunday', 'attributes.Alcohol', 'attributes.GoodForKids',\n",
       "       'attributes.BusinessParking', 'attributes.RestaurantsAttire',\n",
       "       'attributes.Ambience', 'attributes.RestaurantsTableService',\n",
       "       'attributes.RestaurantsGoodForGroups', 'attributes.DriveThru',\n",
       "       'attributes', 'attributes.NoiseLevel', 'attributes.GoodForMeal',\n",
       "       'attributes.BusinessAcceptsBitcoin', 'attributes.Smoking',\n",
       "       'attributes.Music', 'attributes.GoodForDancing',\n",
       "       'attributes.AcceptsInsurance', 'attributes.BestNights',\n",
       "       'attributes.BYOB', 'attributes.Corkage', 'attributes.BYOBCorkage',\n",
       "       'attributes.HairSpecializesIn', 'attributes.Open24Hours',\n",
       "       'attributes.RestaurantsCounterService', 'attributes.AgesAllowed',\n",
       "       'attributes.DietaryRestrictions'],\n",
       "      dtype='object')"
      ]
     },
     "execution_count": 8,
     "metadata": {},
     "output_type": "execute_result"
    }
   ],
   "source": [
    "filtered_df.columns"
   ]
  },
  {
   "cell_type": "markdown",
   "metadata": {},
   "source": [
    "### Cleaning columns from business table"
   ]
  },
  {
   "cell_type": "code",
   "execution_count": 9,
   "metadata": {},
   "outputs": [],
   "source": [
    "#1 dropping less important columns\n",
    "filtered_df.drop(['hours','attributes.ByAppointmentOnly', 'attributes.BikeParking','attributes.CoatCheck',\n",
    "       'attributes.Caters', 'attributes.WiFi', 'attributes.WheelchairAccessible', 'attributes.HappyHour', 'attributes.HasTV', 'attributes.DogsAllowed', 'attributes.GoodForKids',\n",
    "       'attributes.RestaurantsAttire','attributes.NoiseLevel', 'attributes.GoodForMeal', 'attributes.BusinessAcceptsBitcoin', 'attributes.Smoking','attributes.Music',\n",
    "       'attributes.GoodForDancing', 'attributes.AcceptsInsurance', 'attributes.BestNights', 'attributes.BYOB', 'attributes.Corkage', 'attributes.BYOBCorkage',\n",
    "       'attributes.HairSpecializesIn','attributes.AgesAllowed','attributes.DietaryRestrictions','attributes.BusinessParking','attributes', 'attributes.Ambience'], axis=1, inplace=True)"
   ]
  },
  {
   "cell_type": "code",
   "execution_count": 10,
   "metadata": {},
   "outputs": [
    {
     "data": {
      "text/plain": [
       "Index(['business_id', 'name', 'address', 'city', 'state', 'postal_code',\n",
       "       'latitude', 'longitude', 'stars', 'review_count', 'is_open',\n",
       "       'categories', 'attributes.BusinessAcceptsCreditCards', 'hours.Monday',\n",
       "       'hours.Tuesday', 'hours.Wednesday', 'hours.Thursday', 'hours.Friday',\n",
       "       'hours.Saturday', 'attributes.RestaurantsPriceRange2',\n",
       "       'attributes.RestaurantsTakeOut', 'attributes.RestaurantsDelivery',\n",
       "       'attributes.BusinessParking.garage',\n",
       "       'attributes.BusinessParking.street',\n",
       "       'attributes.BusinessParking.validated',\n",
       "       'attributes.BusinessParking.lot', 'attributes.BusinessParking.valet',\n",
       "       'attributes.OutdoorSeating', 'attributes.RestaurantsReservations',\n",
       "       'hours.Sunday', 'attributes.Alcohol',\n",
       "       'attributes.RestaurantsTableService',\n",
       "       'attributes.RestaurantsGoodForGroups', 'attributes.DriveThru',\n",
       "       'attributes.Open24Hours', 'attributes.RestaurantsCounterService'],\n",
       "      dtype='object')"
      ]
     },
     "execution_count": 10,
     "metadata": {},
     "output_type": "execute_result"
    }
   ],
   "source": [
    "filtered_df.columns"
   ]
  },
  {
   "cell_type": "code",
   "execution_count": 11,
   "metadata": {},
   "outputs": [],
   "source": [
    "#2 renaming the header\n",
    "filtered_df.rename(columns={'attributes.BusinessAcceptsCreditCards': 'accepts_credit_cards','hours.Monday':'monday', 'hours.Tuesday':'tuesday','hours.Wednesday':'wednesday',\n",
    "                       'hours.Thursday':'thursday','hours.Friday':'friday','hours.Saturday':'saturday','hours.Sunday':'sunday','attributes.RestaurantsPriceRange2':'price_range',\n",
    "                       'attributes.RestaurantsTakeOut':'take_out','attributes.RestaurantsDelivery':'delivery','attributes.BusinessParking.garage':'parking_garage',\n",
    "                       'attributes.BusinessParking.street':'parking_street','attributes.BusinessParking.validated':'parking_validated','attributes.BusinessParking.lot':'parking_lot',\n",
    "                       'attributes.BusinessParking.valet':'parking_valet','attributes.OutdoorSeating':'outdoor_seating','attributes.RestaurantsReservations':'seats_reservations',\n",
    "                       'attributes.Alcohol':'alcohol','attributes.Ambience':'ambience','attributes.RestaurantsTableService':'table_service','attributes.RestaurantsGoodForGroups':'for_groups',\n",
    "                       'attributes.DriveThru':'drive_thru','attributes.Open24Hours':'open_24_hours','attributes.RestaurantsCounterService':'counter_service'}, inplace=True)"
   ]
  },
  {
   "cell_type": "code",
   "execution_count": 12,
   "metadata": {},
   "outputs": [
    {
     "name": "stdout",
     "output_type": "stream",
     "text": [
      "<class 'pandas.core.frame.DataFrame'>\n",
      "Index: 66819 entries, 3 to 150237\n",
      "Data columns (total 36 columns):\n",
      " #   Column                Non-Null Count  Dtype  \n",
      "---  ------                --------------  -----  \n",
      " 0   business_id           66819 non-null  object \n",
      " 1   name                  66819 non-null  object \n",
      " 2   address               66819 non-null  object \n",
      " 3   city                  66819 non-null  object \n",
      " 4   state                 66819 non-null  object \n",
      " 5   postal_code           66819 non-null  object \n",
      " 6   latitude              66819 non-null  float64\n",
      " 7   longitude             66819 non-null  float64\n",
      " 8   stars                 66819 non-null  float64\n",
      " 9   review_count          66819 non-null  int64  \n",
      " 10  is_open               66819 non-null  int64  \n",
      " 11  categories            66819 non-null  object \n",
      " 12  accepts_credit_cards  58084 non-null  object \n",
      " 13  monday                49484 non-null  object \n",
      " 14  tuesday               52692 non-null  object \n",
      " 15  wednesday             55082 non-null  object \n",
      " 16  thursday              56064 non-null  object \n",
      " 17  friday                56432 non-null  object \n",
      " 18  saturday              55161 non-null  object \n",
      " 19  price_range           56449 non-null  object \n",
      " 20  take_out              57923 non-null  object \n",
      " 21  delivery              53885 non-null  object \n",
      " 22  parking_garage        55493 non-null  object \n",
      " 23  parking_street        54120 non-null  object \n",
      " 24  parking_validated     55276 non-null  object \n",
      " 25  parking_lot           55143 non-null  object \n",
      " 26  parking_valet         57388 non-null  object \n",
      " 27  outdoor_seating       48001 non-null  object \n",
      " 28  seats_reservations    44983 non-null  object \n",
      " 29  sunday                47740 non-null  object \n",
      " 30  alcohol               42631 non-null  object \n",
      " 31  table_service         19860 non-null  object \n",
      " 32  for_groups            43626 non-null  object \n",
      " 33  drive_thru            7676 non-null   object \n",
      " 34  open_24_hours         26 non-null     object \n",
      " 35  counter_service       19 non-null     object \n",
      "dtypes: float64(3), int64(2), object(31)\n",
      "memory usage: 18.9+ MB\n"
     ]
    }
   ],
   "source": [
    "filtered_df.info()"
   ]
  },
  {
   "cell_type": "code",
   "execution_count": 13,
   "metadata": {},
   "outputs": [
    {
     "data": {
      "text/plain": [
       "Index(['business_id', 'name', 'address', 'city', 'state', 'postal_code',\n",
       "       'latitude', 'longitude', 'stars', 'review_count', 'is_open',\n",
       "       'categories', 'accepts_credit_cards', 'monday', 'tuesday', 'wednesday',\n",
       "       'thursday', 'friday', 'saturday', 'price_range', 'take_out', 'delivery',\n",
       "       'parking_garage', 'parking_street', 'parking_validated', 'parking_lot',\n",
       "       'parking_valet', 'outdoor_seating', 'seats_reservations', 'sunday',\n",
       "       'alcohol', 'table_service', 'for_groups', 'drive_thru', 'open_24_hours',\n",
       "       'counter_service'],\n",
       "      dtype='object')"
      ]
     },
     "execution_count": 13,
     "metadata": {},
     "output_type": "execute_result"
    }
   ],
   "source": [
    "filtered_df.columns"
   ]
  },
  {
   "cell_type": "markdown",
   "metadata": {},
   "source": [
    "### Cleaning data inside the cells"
   ]
  },
  {
   "cell_type": "code",
   "execution_count": 14,
   "metadata": {},
   "outputs": [
    {
     "data": {
      "text/plain": [
       "array([\"u'none'\", nan, \"u'full_bar'\", \"'none'\", \"'full_bar'\",\n",
       "       \"u'beer_and_wine'\", \"'beer_and_wine'\", 'None'], dtype=object)"
      ]
     },
     "execution_count": 14,
     "metadata": {},
     "output_type": "execute_result"
    }
   ],
   "source": [
    "filtered_df['alcohol'].unique()"
   ]
  },
  {
   "cell_type": "code",
   "execution_count": 15,
   "metadata": {},
   "outputs": [],
   "source": [
    "filtered_df['alcohol'] = filtered_df['alcohol'].str.replace(\"u'\", \"\").str.replace(\"'\", \"\")"
   ]
  },
  {
   "cell_type": "code",
   "execution_count": 16,
   "metadata": {},
   "outputs": [
    {
     "data": {
      "text/plain": [
       "array(['none', nan, 'full_bar', 'beer_and_wine', 'None'], dtype=object)"
      ]
     },
     "execution_count": 16,
     "metadata": {},
     "output_type": "execute_result"
    }
   ],
   "source": [
    "filtered_df['alcohol'].unique()"
   ]
  },
  {
   "cell_type": "markdown",
   "metadata": {},
   "source": [
    "### copying the dataframe to not loose the original df and find parking availability "
   ]
  },
  {
   "cell_type": "code",
   "execution_count": 17,
   "metadata": {},
   "outputs": [],
   "source": [
    "filter_df = filtered_df.copy()"
   ]
  },
  {
   "cell_type": "code",
   "execution_count": 18,
   "metadata": {},
   "outputs": [],
   "source": [
    "# creating function to check the Values either true in any case\n",
    "def parking_check(row):\n",
    "    if row['parking_garage'] == True or row['parking_street'] == True or row['parking_validated'] == True or row['parking_lot'] == True or row['parking_valet'] == True:\n",
    "        return True\n",
    "    else:\n",
    "        return False"
   ]
  },
  {
   "cell_type": "code",
   "execution_count": 19,
   "metadata": {},
   "outputs": [],
   "source": [
    "# running parking check by row if anywhere found True returns True in a new Column else all returning False.\n",
    "filter_df['parking_available'] = filter_df.apply(parking_check, axis=1)"
   ]
  },
  {
   "cell_type": "code",
   "execution_count": 20,
   "metadata": {},
   "outputs": [],
   "source": [
    "# dropping all the parking extensions from the table to be in more cleaned way\n",
    "filter_df.drop(['parking_garage', 'parking_street','parking_validated','parking_lot','parking_valet'], axis=1, inplace=True)"
   ]
  },
  {
   "cell_type": "code",
   "execution_count": 21,
   "metadata": {},
   "outputs": [
    {
     "data": {
      "text/html": [
       "<div>\n",
       "<style scoped>\n",
       "    .dataframe tbody tr th:only-of-type {\n",
       "        vertical-align: middle;\n",
       "    }\n",
       "\n",
       "    .dataframe tbody tr th {\n",
       "        vertical-align: top;\n",
       "    }\n",
       "\n",
       "    .dataframe thead th {\n",
       "        text-align: right;\n",
       "    }\n",
       "</style>\n",
       "<table border=\"1\" class=\"dataframe\">\n",
       "  <thead>\n",
       "    <tr style=\"text-align: right;\">\n",
       "      <th></th>\n",
       "      <th>business_id</th>\n",
       "      <th>name</th>\n",
       "      <th>address</th>\n",
       "      <th>city</th>\n",
       "      <th>state</th>\n",
       "      <th>postal_code</th>\n",
       "      <th>latitude</th>\n",
       "      <th>longitude</th>\n",
       "      <th>stars</th>\n",
       "      <th>review_count</th>\n",
       "      <th>...</th>\n",
       "      <th>outdoor_seating</th>\n",
       "      <th>seats_reservations</th>\n",
       "      <th>sunday</th>\n",
       "      <th>alcohol</th>\n",
       "      <th>table_service</th>\n",
       "      <th>for_groups</th>\n",
       "      <th>drive_thru</th>\n",
       "      <th>open_24_hours</th>\n",
       "      <th>counter_service</th>\n",
       "      <th>parking_available</th>\n",
       "    </tr>\n",
       "  </thead>\n",
       "  <tbody>\n",
       "    <tr>\n",
       "      <th>3</th>\n",
       "      <td>MTSW4McQd7CbVtyjqoe9mw</td>\n",
       "      <td>St Honore Pastries</td>\n",
       "      <td>935 Race St</td>\n",
       "      <td>Philadelphia</td>\n",
       "      <td>PA</td>\n",
       "      <td>19107</td>\n",
       "      <td>39.955505</td>\n",
       "      <td>-75.155564</td>\n",
       "      <td>4.0</td>\n",
       "      <td>80</td>\n",
       "      <td>...</td>\n",
       "      <td>False</td>\n",
       "      <td>NaN</td>\n",
       "      <td>7:0-21:0</td>\n",
       "      <td>none</td>\n",
       "      <td>NaN</td>\n",
       "      <td>NaN</td>\n",
       "      <td>NaN</td>\n",
       "      <td>NaN</td>\n",
       "      <td>NaN</td>\n",
       "      <td>True</td>\n",
       "    </tr>\n",
       "    <tr>\n",
       "      <th>4</th>\n",
       "      <td>mWMc6_wTdE0EUBKIGXDVfA</td>\n",
       "      <td>Perkiomen Valley Brewery</td>\n",
       "      <td>101 Walnut St</td>\n",
       "      <td>Green Lane</td>\n",
       "      <td>PA</td>\n",
       "      <td>18054</td>\n",
       "      <td>40.338183</td>\n",
       "      <td>-75.471659</td>\n",
       "      <td>4.5</td>\n",
       "      <td>13</td>\n",
       "      <td>...</td>\n",
       "      <td>NaN</td>\n",
       "      <td>NaN</td>\n",
       "      <td>12:0-18:0</td>\n",
       "      <td>NaN</td>\n",
       "      <td>NaN</td>\n",
       "      <td>NaN</td>\n",
       "      <td>NaN</td>\n",
       "      <td>NaN</td>\n",
       "      <td>NaN</td>\n",
       "      <td>True</td>\n",
       "    </tr>\n",
       "    <tr>\n",
       "      <th>5</th>\n",
       "      <td>CF33F8-E6oudUQ46HnavjQ</td>\n",
       "      <td>Sonic Drive-In</td>\n",
       "      <td>615 S Main St</td>\n",
       "      <td>Ashland City</td>\n",
       "      <td>TN</td>\n",
       "      <td>37015</td>\n",
       "      <td>36.269593</td>\n",
       "      <td>-87.058943</td>\n",
       "      <td>2.0</td>\n",
       "      <td>6</td>\n",
       "      <td>...</td>\n",
       "      <td>True</td>\n",
       "      <td>False</td>\n",
       "      <td>8:0-22:0</td>\n",
       "      <td>none</td>\n",
       "      <td>False</td>\n",
       "      <td>True</td>\n",
       "      <td>True</td>\n",
       "      <td>NaN</td>\n",
       "      <td>NaN</td>\n",
       "      <td>False</td>\n",
       "    </tr>\n",
       "    <tr>\n",
       "      <th>8</th>\n",
       "      <td>k0hlBqXX-Bt0vf1op7Jr1w</td>\n",
       "      <td>Tsevi's Pub And Grill</td>\n",
       "      <td>8025 Mackenzie Rd</td>\n",
       "      <td>Affton</td>\n",
       "      <td>MO</td>\n",
       "      <td>63123</td>\n",
       "      <td>38.565165</td>\n",
       "      <td>-90.321087</td>\n",
       "      <td>3.0</td>\n",
       "      <td>19</td>\n",
       "      <td>...</td>\n",
       "      <td>True</td>\n",
       "      <td>False</td>\n",
       "      <td>NaN</td>\n",
       "      <td>full_bar</td>\n",
       "      <td>NaN</td>\n",
       "      <td>True</td>\n",
       "      <td>NaN</td>\n",
       "      <td>NaN</td>\n",
       "      <td>NaN</td>\n",
       "      <td>True</td>\n",
       "    </tr>\n",
       "    <tr>\n",
       "      <th>9</th>\n",
       "      <td>bBDDEgkFA1Otx9Lfe7BZUQ</td>\n",
       "      <td>Sonic Drive-In</td>\n",
       "      <td>2312 Dickerson Pike</td>\n",
       "      <td>Nashville</td>\n",
       "      <td>TN</td>\n",
       "      <td>37207</td>\n",
       "      <td>36.208102</td>\n",
       "      <td>-86.768170</td>\n",
       "      <td>1.5</td>\n",
       "      <td>10</td>\n",
       "      <td>...</td>\n",
       "      <td>True</td>\n",
       "      <td>False</td>\n",
       "      <td>6:0-21:0</td>\n",
       "      <td>none</td>\n",
       "      <td>False</td>\n",
       "      <td>False</td>\n",
       "      <td>True</td>\n",
       "      <td>NaN</td>\n",
       "      <td>NaN</td>\n",
       "      <td>False</td>\n",
       "    </tr>\n",
       "    <tr>\n",
       "      <th>...</th>\n",
       "      <td>...</td>\n",
       "      <td>...</td>\n",
       "      <td>...</td>\n",
       "      <td>...</td>\n",
       "      <td>...</td>\n",
       "      <td>...</td>\n",
       "      <td>...</td>\n",
       "      <td>...</td>\n",
       "      <td>...</td>\n",
       "      <td>...</td>\n",
       "      <td>...</td>\n",
       "      <td>...</td>\n",
       "      <td>...</td>\n",
       "      <td>...</td>\n",
       "      <td>...</td>\n",
       "      <td>...</td>\n",
       "      <td>...</td>\n",
       "      <td>...</td>\n",
       "      <td>...</td>\n",
       "      <td>...</td>\n",
       "      <td>...</td>\n",
       "    </tr>\n",
       "    <tr>\n",
       "      <th>150224</th>\n",
       "      <td>cM6V90ExQD6KMSU3rRB5ZA</td>\n",
       "      <td>Dutch Bros Coffee</td>\n",
       "      <td>1181 N Milwaukee St</td>\n",
       "      <td>Boise</td>\n",
       "      <td>ID</td>\n",
       "      <td>83704</td>\n",
       "      <td>43.615401</td>\n",
       "      <td>-116.284689</td>\n",
       "      <td>4.0</td>\n",
       "      <td>33</td>\n",
       "      <td>...</td>\n",
       "      <td>True</td>\n",
       "      <td>False</td>\n",
       "      <td>0:0-0:0</td>\n",
       "      <td>none</td>\n",
       "      <td>NaN</td>\n",
       "      <td>True</td>\n",
       "      <td>NaN</td>\n",
       "      <td>NaN</td>\n",
       "      <td>NaN</td>\n",
       "      <td>True</td>\n",
       "    </tr>\n",
       "    <tr>\n",
       "      <th>150225</th>\n",
       "      <td>1jx1sfgjgVg0nM6n3p0xWA</td>\n",
       "      <td>Savaya Coffee Market</td>\n",
       "      <td>11177 N Oracle Rd</td>\n",
       "      <td>Oro Valley</td>\n",
       "      <td>AZ</td>\n",
       "      <td>85737</td>\n",
       "      <td>32.409552</td>\n",
       "      <td>-110.943073</td>\n",
       "      <td>4.5</td>\n",
       "      <td>41</td>\n",
       "      <td>...</td>\n",
       "      <td>True</td>\n",
       "      <td>NaN</td>\n",
       "      <td>6:0-15:0</td>\n",
       "      <td>NaN</td>\n",
       "      <td>NaN</td>\n",
       "      <td>NaN</td>\n",
       "      <td>NaN</td>\n",
       "      <td>NaN</td>\n",
       "      <td>NaN</td>\n",
       "      <td>True</td>\n",
       "    </tr>\n",
       "    <tr>\n",
       "      <th>150233</th>\n",
       "      <td>WnT9NIzQgLlILjPT0kEcsQ</td>\n",
       "      <td>Adelita Taqueria &amp; Restaurant</td>\n",
       "      <td>1108 S 9th St</td>\n",
       "      <td>Philadelphia</td>\n",
       "      <td>PA</td>\n",
       "      <td>19147</td>\n",
       "      <td>39.935982</td>\n",
       "      <td>-75.158665</td>\n",
       "      <td>4.5</td>\n",
       "      <td>35</td>\n",
       "      <td>...</td>\n",
       "      <td>False</td>\n",
       "      <td>False</td>\n",
       "      <td>11:0-22:0</td>\n",
       "      <td>none</td>\n",
       "      <td>True</td>\n",
       "      <td>True</td>\n",
       "      <td>NaN</td>\n",
       "      <td>NaN</td>\n",
       "      <td>NaN</td>\n",
       "      <td>True</td>\n",
       "    </tr>\n",
       "    <tr>\n",
       "      <th>150236</th>\n",
       "      <td>2O2K6SXPWv56amqxCECd4w</td>\n",
       "      <td>The Plum Pit</td>\n",
       "      <td>4405 Pennell Rd</td>\n",
       "      <td>Aston</td>\n",
       "      <td>DE</td>\n",
       "      <td>19014</td>\n",
       "      <td>39.856185</td>\n",
       "      <td>-75.427725</td>\n",
       "      <td>4.5</td>\n",
       "      <td>14</td>\n",
       "      <td>...</td>\n",
       "      <td>NaN</td>\n",
       "      <td>NaN</td>\n",
       "      <td>0:0-0:0</td>\n",
       "      <td>none</td>\n",
       "      <td>NaN</td>\n",
       "      <td>NaN</td>\n",
       "      <td>NaN</td>\n",
       "      <td>NaN</td>\n",
       "      <td>NaN</td>\n",
       "      <td>True</td>\n",
       "    </tr>\n",
       "    <tr>\n",
       "      <th>150237</th>\n",
       "      <td>hn9Toz3s-Ei3uZPt7esExA</td>\n",
       "      <td>West Side Kebab House</td>\n",
       "      <td>2470 Guardian Road NW</td>\n",
       "      <td>Edmonton</td>\n",
       "      <td>AB</td>\n",
       "      <td>T5T 1K8</td>\n",
       "      <td>53.509649</td>\n",
       "      <td>-113.675999</td>\n",
       "      <td>4.5</td>\n",
       "      <td>18</td>\n",
       "      <td>...</td>\n",
       "      <td>NaN</td>\n",
       "      <td>NaN</td>\n",
       "      <td>11:0-22:0</td>\n",
       "      <td>NaN</td>\n",
       "      <td>True</td>\n",
       "      <td>True</td>\n",
       "      <td>NaN</td>\n",
       "      <td>NaN</td>\n",
       "      <td>NaN</td>\n",
       "      <td>False</td>\n",
       "    </tr>\n",
       "  </tbody>\n",
       "</table>\n",
       "<p>66819 rows × 32 columns</p>\n",
       "</div>"
      ],
      "text/plain": [
       "                   business_id                           name  \\\n",
       "3       MTSW4McQd7CbVtyjqoe9mw             St Honore Pastries   \n",
       "4       mWMc6_wTdE0EUBKIGXDVfA       Perkiomen Valley Brewery   \n",
       "5       CF33F8-E6oudUQ46HnavjQ                 Sonic Drive-In   \n",
       "8       k0hlBqXX-Bt0vf1op7Jr1w          Tsevi's Pub And Grill   \n",
       "9       bBDDEgkFA1Otx9Lfe7BZUQ                 Sonic Drive-In   \n",
       "...                        ...                            ...   \n",
       "150224  cM6V90ExQD6KMSU3rRB5ZA              Dutch Bros Coffee   \n",
       "150225  1jx1sfgjgVg0nM6n3p0xWA           Savaya Coffee Market   \n",
       "150233  WnT9NIzQgLlILjPT0kEcsQ  Adelita Taqueria & Restaurant   \n",
       "150236  2O2K6SXPWv56amqxCECd4w                   The Plum Pit   \n",
       "150237  hn9Toz3s-Ei3uZPt7esExA          West Side Kebab House   \n",
       "\n",
       "                      address          city state postal_code   latitude  \\\n",
       "3                 935 Race St  Philadelphia    PA       19107  39.955505   \n",
       "4               101 Walnut St    Green Lane    PA       18054  40.338183   \n",
       "5               615 S Main St  Ashland City    TN       37015  36.269593   \n",
       "8           8025 Mackenzie Rd        Affton    MO       63123  38.565165   \n",
       "9         2312 Dickerson Pike     Nashville    TN       37207  36.208102   \n",
       "...                       ...           ...   ...         ...        ...   \n",
       "150224    1181 N Milwaukee St         Boise    ID       83704  43.615401   \n",
       "150225      11177 N Oracle Rd    Oro Valley    AZ       85737  32.409552   \n",
       "150233          1108 S 9th St  Philadelphia    PA       19147  39.935982   \n",
       "150236        4405 Pennell Rd         Aston    DE       19014  39.856185   \n",
       "150237  2470 Guardian Road NW      Edmonton    AB     T5T 1K8  53.509649   \n",
       "\n",
       "         longitude  stars  review_count  ...  outdoor_seating  \\\n",
       "3       -75.155564    4.0            80  ...            False   \n",
       "4       -75.471659    4.5            13  ...              NaN   \n",
       "5       -87.058943    2.0             6  ...             True   \n",
       "8       -90.321087    3.0            19  ...             True   \n",
       "9       -86.768170    1.5            10  ...             True   \n",
       "...            ...    ...           ...  ...              ...   \n",
       "150224 -116.284689    4.0            33  ...             True   \n",
       "150225 -110.943073    4.5            41  ...             True   \n",
       "150233  -75.158665    4.5            35  ...            False   \n",
       "150236  -75.427725    4.5            14  ...              NaN   \n",
       "150237 -113.675999    4.5            18  ...              NaN   \n",
       "\n",
       "       seats_reservations     sunday   alcohol table_service for_groups  \\\n",
       "3                     NaN   7:0-21:0      none           NaN        NaN   \n",
       "4                     NaN  12:0-18:0       NaN           NaN        NaN   \n",
       "5                   False   8:0-22:0      none         False       True   \n",
       "8                   False        NaN  full_bar           NaN       True   \n",
       "9                   False   6:0-21:0      none         False      False   \n",
       "...                   ...        ...       ...           ...        ...   \n",
       "150224              False    0:0-0:0      none           NaN       True   \n",
       "150225                NaN   6:0-15:0       NaN           NaN        NaN   \n",
       "150233              False  11:0-22:0      none          True       True   \n",
       "150236                NaN    0:0-0:0      none           NaN        NaN   \n",
       "150237                NaN  11:0-22:0       NaN          True       True   \n",
       "\n",
       "       drive_thru open_24_hours counter_service parking_available  \n",
       "3             NaN           NaN             NaN              True  \n",
       "4             NaN           NaN             NaN              True  \n",
       "5            True           NaN             NaN             False  \n",
       "8             NaN           NaN             NaN              True  \n",
       "9            True           NaN             NaN             False  \n",
       "...           ...           ...             ...               ...  \n",
       "150224        NaN           NaN             NaN              True  \n",
       "150225        NaN           NaN             NaN              True  \n",
       "150233        NaN           NaN             NaN              True  \n",
       "150236        NaN           NaN             NaN              True  \n",
       "150237        NaN           NaN             NaN             False  \n",
       "\n",
       "[66819 rows x 32 columns]"
      ]
     },
     "execution_count": 21,
     "metadata": {},
     "output_type": "execute_result"
    }
   ],
   "source": [
    "filter_df"
   ]
  },
  {
   "cell_type": "markdown",
   "metadata": {},
   "source": [
    "### Now we have 66,819 rows and 32 analysable columns for further process.\n",
    "### Calling review date and filter selected business_id"
   ]
  },
  {
   "cell_type": "code",
   "execution_count": 24,
   "metadata": {},
   "outputs": [],
   "source": [
    "filtered = filter_df['business_id'].to_list()\n",
    "import pandas as pd\n",
    "column_names = ['review_id', 'user_id', 'business_id', 'stars', 'useful', 'funny', 'cool', 'text', 'date']\n",
    "chunks = pd.read_json('data/y_review.json', lines=True, chunksize=10000)\n",
    "with open('data/review_category_filt.csv', 'w') as f:\n",
    "    header = ','.join(column_names)\n",
    "    f.write(header + '\\n')\n",
    "for chunk in chunks:\n",
    "    df = pd.DataFrame(chunk)\n",
    "    for index, item in df['business_id'].items():\n",
    "        if item in filtered:\n",
    "            chunk[index:index+1].to_csv('data/review_category_filt.csv', mode='a', header=False, index=False)\n",
    "    break"
   ]
  },
  {
   "cell_type": "code",
   "execution_count": 25,
   "metadata": {},
   "outputs": [
    {
     "data": {
      "text/plain": [
       "(7938, 9)"
      ]
     },
     "execution_count": 25,
     "metadata": {},
     "output_type": "execute_result"
    }
   ],
   "source": [
    "output = pd.read_csv('data/review_filtered.csv')\n",
    "output.shape"
   ]
  }
 ],
 "metadata": {
  "kernelspec": {
   "display_name": "base",
   "language": "python",
   "name": "python3"
  },
  "language_info": {
   "codemirror_mode": {
    "name": "ipython",
    "version": 3
   },
   "file_extension": ".py",
   "mimetype": "text/x-python",
   "name": "python",
   "nbconvert_exporter": "python",
   "pygments_lexer": "ipython3",
   "version": "3.9.17"
  }
 },
 "nbformat": 4,
 "nbformat_minor": 2
}
